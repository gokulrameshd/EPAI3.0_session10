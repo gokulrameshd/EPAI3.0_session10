{
 "cells": [
  {
   "cell_type": "code",
   "execution_count": 1,
   "metadata": {},
   "outputs": [],
   "source": [
    "#import necessary modules\n",
    "from math import *\n",
    "from objective1 import *\n",
    "from objective2 import *"
   ]
  },
  {
   "cell_type": "markdown",
   "metadata": {},
   "source": [
    "### Testing the Polygon class"
   ]
  },
  {
   "cell_type": "code",
   "execution_count": 2,
   "metadata": {},
   "outputs": [],
   "source": [
    "#Creating a polygon class\n",
    "polygon1 = polygon(n =5 , r =10) # the initializer takes in  \n",
    "polygon2 = polygon(n =4 , r =10)"
   ]
  },
  {
   "cell_type": "code",
   "execution_count": 3,
   "metadata": {},
   "outputs": [
    {
     "name": "stdout",
     "output_type": "stream",
     "text": [
      "No of edges    : 5\n",
      "No of vertices : 5\n",
      "Edge_length    : 11.755705045849464\n",
      "Interior_angle : 108.0\n",
      "Apothem        : 8.090169943749475\n",
      "Perimeter      : 58.77852522924732\n",
      "Area           : 237.76412907378844\n"
     ]
    }
   ],
   "source": [
    "\n",
    "print(f\"No of edges    : {polygon1.edges}\")\n",
    "print(f\"No of vertices : {polygon1.vertices}\")\n",
    "print(f\"Edge_length    : {polygon1.edge_length}\")\n",
    "print(f\"Interior_angle : {polygon1.interior_angle}\")\n",
    "print(f\"Apothem        : {polygon1.apothem}\")\n",
    "print(f\"Perimeter      : {polygon1.perimeter}\")\n",
    "print(f\"Area           : {polygon1.area}\")\n"
   ]
  },
  {
   "cell_type": "code",
   "execution_count": 4,
   "metadata": {},
   "outputs": [
    {
     "name": "stdout",
     "output_type": "stream",
     "text": [
      "No of sides :5 , \n",
      " Radius : 10\n"
     ]
    }
   ],
   "source": [
    "# Testing the __repr__ function\n",
    "print(polygon1.__repr__())"
   ]
  },
  {
   "cell_type": "code",
   "execution_count": 5,
   "metadata": {},
   "outputs": [
    {
     "data": {
      "text/plain": [
       "False"
      ]
     },
     "execution_count": 5,
     "metadata": {},
     "output_type": "execute_result"
    }
   ],
   "source": [
    "# Testing the __eq__ function\n",
    "polygon1 == polygon2"
   ]
  },
  {
   "cell_type": "code",
   "execution_count": 6,
   "metadata": {},
   "outputs": [
    {
     "data": {
      "text/plain": [
       "True"
      ]
     },
     "execution_count": 6,
     "metadata": {},
     "output_type": "execute_result"
    }
   ],
   "source": [
    "# Testing the __gt__ function\n",
    "polygon1 > polygon2"
   ]
  },
  {
   "cell_type": "markdown",
   "metadata": {},
   "source": [
    "### Testing the Polygons sequence class"
   ]
  },
  {
   "cell_type": "code",
   "execution_count": 7,
   "metadata": {},
   "outputs": [],
   "source": [
    "poly_seq = polygons_sequence(n = 25 , r =100)"
   ]
  },
  {
   "cell_type": "code",
   "execution_count": 8,
   "metadata": {},
   "outputs": [
    {
     "name": "stdout",
     "output_type": "stream",
     "text": [
      "Polygon which is maximum_efficient : No of sides :25 , \n",
      " Radius : 100\n"
     ]
    }
   ],
   "source": [
    "print(f'Polygon which is maximum_efficient : {poly_seq.maximum_efficient_polygon}')"
   ]
  },
  {
   "cell_type": "code",
   "execution_count": 9,
   "metadata": {},
   "outputs": [
    {
     "name": "stdout",
     "output_type": "stream",
     "text": [
      "Polygon sequence of 23 polygons\n"
     ]
    }
   ],
   "source": [
    "# Testing the __repr__ function\n",
    "print(poly_seq.__repr__())"
   ]
  },
  {
   "cell_type": "code",
   "execution_count": 10,
   "metadata": {},
   "outputs": [
    {
     "name": "stdout",
     "output_type": "stream",
     "text": [
      "23\n"
     ]
    }
   ],
   "source": [
    "# Testing the __len__ function\n",
    "print(poly_seq.__len__())"
   ]
  },
  {
   "cell_type": "code",
   "execution_count": 13,
   "metadata": {},
   "outputs": [
    {
     "name": "stdout",
     "output_type": "stream",
     "text": [
      "No of sides :8 , \n",
      " Radius : 100\n"
     ]
    }
   ],
   "source": [
    "# Testing the __getitem__ function\n",
    "print(poly_seq.__getitem__(5))"
   ]
  },
  {
   "cell_type": "code",
   "execution_count": null,
   "metadata": {},
   "outputs": [],
   "source": []
  }
 ],
 "metadata": {
  "kernelspec": {
   "display_name": "Python 3",
   "language": "python",
   "name": "python3"
  },
  "language_info": {
   "codemirror_mode": {
    "name": "ipython",
    "version": 3
   },
   "file_extension": ".py",
   "mimetype": "text/x-python",
   "name": "python",
   "nbconvert_exporter": "python",
   "pygments_lexer": "ipython3",
   "version": "3.6.5"
  }
 },
 "nbformat": 4,
 "nbformat_minor": 2
}
